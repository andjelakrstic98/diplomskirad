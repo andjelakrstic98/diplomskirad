{
  "nbformat": 4,
  "nbformat_minor": 0,
  "metadata": {
    "colab": {
      "name": "obradaLajkova.ipynb",
      "provenance": []
    },
    "kernelspec": {
      "name": "python3",
      "display_name": "Python 3"
    },
    "language_info": {
      "name": "python"
    }
  },
  "cells": [
    {
      "cell_type": "code",
      "metadata": {
        "colab": {
          "base_uri": "https://localhost:8080/",
          "height": 1000
        },
        "id": "I7H5p9w-Y85g",
        "outputId": "ae101c3e-826e-48f0-b439-54cee2a870dc"
      },
      "source": [
        "!pip install InstagramAPI"
      ],
      "execution_count": 2,
      "outputs": [
        {
          "output_type": "stream",
          "text": [
            "Collecting InstagramAPI\n",
            "  Downloading https://files.pythonhosted.org/packages/15/6d/f7eba7679fb40acb33ac75960c1aff269c2a75b32aff106266c85e3c0b93/InstagramAPI-1.0.2.tar.gz\n",
            "Collecting requests==2.11.1\n",
            "\u001b[?25l  Downloading https://files.pythonhosted.org/packages/ea/03/92d3278bf8287c5caa07dbd9ea139027d5a3592b0f4d14abf072f890fab2/requests-2.11.1-py2.py3-none-any.whl (514kB)\n",
            "\u001b[K     |████████████████████████████████| 522kB 2.9MB/s \n",
            "\u001b[?25hCollecting requests-toolbelt==0.7.0\n",
            "\u001b[?25l  Downloading https://files.pythonhosted.org/packages/57/60/cc85ca45c85585191e70e21687aeaa74ec4e555a1404628ba77b8af7d92e/requests_toolbelt-0.7.0-py2.py3-none-any.whl (52kB)\n",
            "\u001b[K     |████████████████████████████████| 61kB 6.9MB/s \n",
            "\u001b[?25hCollecting moviepy==0.2.3.2\n",
            "\u001b[?25l  Downloading https://files.pythonhosted.org/packages/e4/1f/fb4b8d9397f7952fcb594cb5df3061f00debae7ea92b3be9881c18b905ab/moviepy-0.2.3.2-py2.py3-none-any.whl (122kB)\n",
            "\u001b[K     |████████████████████████████████| 133kB 17.9MB/s \n",
            "\u001b[?25hCollecting tqdm==4.11.2\n",
            "\u001b[?25l  Downloading https://files.pythonhosted.org/packages/b7/0d/174388e99e21ee2c91ea318994c3f8744e26158e43cff0ec9d045bf08a96/tqdm-4.11.2-py2.py3-none-any.whl (46kB)\n",
            "\u001b[K     |████████████████████████████████| 51kB 5.3MB/s \n",
            "\u001b[?25hCollecting decorator==4.0.11\n",
            "  Downloading https://files.pythonhosted.org/packages/00/cc/dd79ea98a0ff5a01d714c37eddd99cd0a71557113f1511921d1ef9a083b8/decorator-4.0.11-py2.py3-none-any.whl\n",
            "Collecting imageio==2.1.2\n",
            "\u001b[?25l  Downloading https://files.pythonhosted.org/packages/68/31/55cad23b6bd32afee6e4c7eec2f15266665879f8eaf812e3b843205d41ad/imageio-2.1.2.zip (3.3MB)\n",
            "\u001b[K     |████████████████████████████████| 3.3MB 25.6MB/s \n",
            "\u001b[?25hRequirement already satisfied: numpy in /usr/local/lib/python3.7/dist-packages (from moviepy==0.2.3.2->InstagramAPI) (1.19.5)\n",
            "Requirement already satisfied: pillow in /usr/local/lib/python3.7/dist-packages (from imageio==2.1.2->moviepy==0.2.3.2->InstagramAPI) (7.1.2)\n",
            "Building wheels for collected packages: InstagramAPI, imageio\n",
            "  Building wheel for InstagramAPI (setup.py) ... \u001b[?25l\u001b[?25hdone\n",
            "  Created wheel for InstagramAPI: filename=InstagramAPI-1.0.2-cp37-none-any.whl size=14021 sha256=f2d9b6a9ac2f6e4473c190737463e7099fdff8964400d2c85814008e111cd251\n",
            "  Stored in directory: /root/.cache/pip/wheels/6c/00/8f/ff713f248704d409ad2c2fc1352ce62b2b4d7d12a75267a911\n",
            "  Building wheel for imageio (setup.py) ... \u001b[?25l\u001b[?25hdone\n",
            "  Created wheel for imageio: filename=imageio-2.1.2-cp37-none-any.whl size=3248817 sha256=df989c61c77ed99abe2880b93ab3bfc28c5b1cfad41f59c501585c52f707e53a\n",
            "  Stored in directory: /root/.cache/pip/wheels/46/d7/61/fe435bf3dc20403ff38ffed213528ae710b4301ac6b403c582\n",
            "Successfully built InstagramAPI imageio\n",
            "\u001b[31mERROR: tensorflow-datasets 4.0.1 has requirement requests>=2.19.0, but you'll have requests 2.11.1 which is incompatible.\u001b[0m\n",
            "\u001b[31mERROR: tensorboard 2.5.0 has requirement requests<3,>=2.21.0, but you'll have requests 2.11.1 which is incompatible.\u001b[0m\n",
            "\u001b[31mERROR: spacy 2.2.4 has requirement requests<3.0.0,>=2.13.0, but you'll have requests 2.11.1 which is incompatible.\u001b[0m\n",
            "\u001b[31mERROR: spacy 2.2.4 has requirement tqdm<5.0.0,>=4.38.0, but you'll have tqdm 4.11.2 which is incompatible.\u001b[0m\n",
            "\u001b[31mERROR: scikit-image 0.16.2 has requirement imageio>=2.3.0, but you'll have imageio 2.1.2 which is incompatible.\u001b[0m\n",
            "\u001b[31mERROR: pandas-datareader 0.9.0 has requirement requests>=2.19.0, but you'll have requests 2.11.1 which is incompatible.\u001b[0m\n",
            "\u001b[31mERROR: networkx 2.5.1 has requirement decorator<5,>=4.3, but you'll have decorator 4.0.11 which is incompatible.\u001b[0m\n",
            "\u001b[31mERROR: google-colab 1.0.0 has requirement requests~=2.23.0, but you'll have requests 2.11.1 which is incompatible.\u001b[0m\n",
            "\u001b[31mERROR: google-api-core 1.26.3 has requirement requests<3.0.0dev,>=2.18.0, but you'll have requests 2.11.1 which is incompatible.\u001b[0m\n",
            "\u001b[31mERROR: fbprophet 0.7.1 has requirement tqdm>=4.36.1, but you'll have tqdm 4.11.2 which is incompatible.\u001b[0m\n",
            "\u001b[31mERROR: datascience 0.10.6 has requirement folium==0.2.1, but you'll have folium 0.8.3 which is incompatible.\u001b[0m\n",
            "\u001b[31mERROR: albumentations 0.1.12 has requirement imgaug<0.2.7,>=0.2.5, but you'll have imgaug 0.2.9 which is incompatible.\u001b[0m\n",
            "Installing collected packages: requests, requests-toolbelt, tqdm, decorator, imageio, moviepy, InstagramAPI\n",
            "  Found existing installation: requests 2.23.0\n",
            "    Uninstalling requests-2.23.0:\n",
            "      Successfully uninstalled requests-2.23.0\n",
            "  Found existing installation: tqdm 4.41.1\n",
            "    Uninstalling tqdm-4.41.1:\n",
            "      Successfully uninstalled tqdm-4.41.1\n",
            "  Found existing installation: decorator 4.4.2\n",
            "    Uninstalling decorator-4.4.2:\n",
            "      Successfully uninstalled decorator-4.4.2\n",
            "  Found existing installation: imageio 2.4.1\n",
            "    Uninstalling imageio-2.4.1:\n",
            "      Successfully uninstalled imageio-2.4.1\n",
            "  Found existing installation: moviepy 0.2.3.5\n",
            "    Uninstalling moviepy-0.2.3.5:\n",
            "      Successfully uninstalled moviepy-0.2.3.5\n",
            "Successfully installed InstagramAPI-1.0.2 decorator-4.0.11 imageio-2.1.2 moviepy-0.2.3.2 requests-2.11.1 requests-toolbelt-0.7.0 tqdm-4.11.2\n"
          ],
          "name": "stdout"
        },
        {
          "output_type": "display_data",
          "data": {
            "application/vnd.colab-display-data+json": {
              "pip_warning": {
                "packages": [
                  "decorator"
                ]
              }
            }
          },
          "metadata": {
            "tags": []
          }
        }
      ]
    },
    {
      "cell_type": "code",
      "metadata": {
        "colab": {
          "base_uri": "https://localhost:8080/"
        },
        "id": "pc7w53NmY5AI",
        "outputId": "3d6b17a9-ed78-4484-ad5c-c822cb11dbe8"
      },
      "source": [
        "from InstagramAPI import InstagramAPI\n",
        "import pandas as pd\n",
        "from pandas.io.json import json_normalize\n",
        "\n",
        "\n",
        "\n",
        "def login_to_instagram(username, password):\n",
        "    api = InstagramAPI('angel0tech', 'password')\n",
        "    api.login()\n",
        "    \n",
        "    return api\n",
        "\n",
        "\n",
        "api = login_to_instagram('instagram_username','instagram_password')"
      ],
      "execution_count": 3,
      "outputs": [
        {
          "output_type": "stream",
          "text": [
            "Request return 405 error!\n",
            "{'message': '', 'status': 'fail'}\n",
            "Request return 404 error!\n",
            "Login success!\n",
            "\n"
          ],
          "name": "stdout"
        }
      ]
    },
    {
      "cell_type": "code",
      "metadata": {
        "colab": {
          "base_uri": "https://localhost:8080/"
        },
        "id": "funiXtzyZIuT",
        "outputId": "e978a5f6-9b58-469c-b5ea-161c109720e5"
      },
      "source": [
        "def get_my_posts(api):\n",
        "    \n",
        "    my_posts = []\n",
        "    has_more_posts = True\n",
        "    max_id= ''\n",
        "\n",
        "    while has_more_posts:\n",
        "        api.getSelfUserFeed(maxid=max_id)\n",
        "        if api.LastJson['more_available'] is not True:\n",
        "            has_more_posts = False \n",
        "\n",
        "        max_id = api.LastJson.get('next_max_id','')\n",
        "        my_posts.extend(api.LastJson['items']) \n",
        "        \n",
        "\n",
        "        if has_more_posts:\n",
        "            print(str(len(my_posts)) + ' posts retrieved so far...')\n",
        "\n",
        "    print('Total posts retrieved: ' + str(len(my_posts)))\n",
        "    \n",
        "    return my_posts\n",
        "\n",
        "my_posts = get_my_posts(api)"
      ],
      "execution_count": 4,
      "outputs": [
        {
          "output_type": "stream",
          "text": [
            "Total posts retrieved: 2\n"
          ],
          "name": "stdout"
        }
      ]
    },
    {
      "cell_type": "code",
      "metadata": {
        "colab": {
          "base_uri": "https://localhost:8080/"
        },
        "id": "8_MU6CwcZPml",
        "outputId": "2e056bae-4c04-4741-c43d-0b59b909155d"
      },
      "source": [
        "def get_posts_likers(api, my_posts):\n",
        " \n",
        "    likers = []\n",
        "    \n",
        "    print('wait %.1f minutes' % (len(my_posts)*2/60.))\n",
        "    for i in range(len(my_posts)):\n",
        "        m_id = my_posts[i]['id']\n",
        "        api.getMediaLikers(m_id)\n",
        "        \n",
        "        likers += [api.LastJson]\n",
        "       \n",
        "        likers[i]['post_id'] = m_id\n",
        "        \n",
        "      \n",
        "    print('done')\n",
        "    return likers\n",
        "\n",
        "\n",
        "likers = get_posts_likers(api, my_posts)\n"
      ],
      "execution_count": 35,
      "outputs": [
        {
          "output_type": "stream",
          "text": [
            "wait 0.1 minutes\n",
            "done\n"
          ],
          "name": "stdout"
        }
      ]
    },
    {
      "cell_type": "code",
      "metadata": {
        "colab": {
          "base_uri": "https://localhost:8080/"
        },
        "id": "SkAMTVJVZfG3",
        "outputId": "68cfb02f-7713-4686-ce56-c43fba4ad92d"
      },
      "source": [
        "def posts_likers_to_df(likers):\n",
        "    \n",
        "    \n",
        "    df_likers = json_normalize(likers, 'users', ['post_id'])\n",
        "   \n",
        "    df_likers['content_type'] = 'like'\n",
        "    \n",
        "    return df_likers\n",
        "    df_likers = posts_likers_to_df(likers)\n",
        "\n",
        "print('Total posts: ' + str(len(my_posts)))\n",
        "print('---------')\n",
        "print('Total likes on profile: ' + str(df_likers.shape[0])) \n",
        "print('Distinct users that liked your posts: ' +str(df_likers.username.nunique()))"
      ],
      "execution_count": 37,
      "outputs": [
        {
          "output_type": "stream",
          "text": [
            "Total posts: 2\n",
            "---------\n",
            "Total likes on profile: 9\n",
            "Distinct users that liked your posts: 6\n"
          ],
          "name": "stdout"
        }
      ]
    },
    {
      "cell_type": "code",
      "metadata": {
        "colab": {
          "base_uri": "https://localhost:8080/"
        },
        "id": "-M_lAY-tazhF",
        "outputId": "f2240344-f271-4f11-a026-376d6ae3d950"
      },
      "source": [
        "df_likers.username.value_counts()"
      ],
      "execution_count": 38,
      "outputs": [
        {
          "output_type": "execute_result",
          "data": {
            "text/plain": [
              "andjela_98k               2\n",
              "clockwork_angelsxbooks    2\n",
              "madalina_andreeab         2\n",
              "masa_lavica               1\n",
              "monica_d_j                1\n",
              "fbimostunwanted           1\n",
              "Name: username, dtype: int64"
            ]
          },
          "metadata": {
            "tags": []
          },
          "execution_count": 38
        }
      ]
    },
    {
      "cell_type": "code",
      "metadata": {
        "colab": {
          "base_uri": "https://localhost:8080/",
          "height": 520
        },
        "id": "WTlEOF4Da2Xg",
        "outputId": "71292e46-a5a5-469c-b7ea-e157bd8b0f1b"
      },
      "source": [
        "df_likers.username.value_counts().plot(kind='bar', title='Grafički prikaz korisnika koji su lajkovali naše objave', grid=True, figsize=(12,6), color=['green','blue', 'red', 'yellow','cyan','pink'])"
      ],
      "execution_count": 40,
      "outputs": [
        {
          "output_type": "execute_result",
          "data": {
            "text/plain": [
              "<matplotlib.axes._subplots.AxesSubplot at 0x7f9c45b276d0>"
            ]
          },
          "metadata": {
            "tags": []
          },
          "execution_count": 40
        },
        {
          "output_type": "display_data",
          "data": {
            "image/png": "[encoded data removed]",
            "text/plain": [
              "<Figure size 864x432 with 1 Axes>"
            ]
          },
          "metadata": {
            "tags": [],
            "needs_background": "light"
          }
        }
      ]
    }
  ]
}